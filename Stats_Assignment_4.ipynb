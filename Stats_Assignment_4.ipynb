{
 "cells": [
  {
   "cell_type": "markdown",
   "metadata": {},
   "source": [
    "Problem Statement 1:\n",
    "Is gender independent of education level? A random sample of 395 people were\n",
    "surveyed and each person was asked to report the highest education level they\n",
    "obtained. The data that resulted from the survey is summarized in the following table:\n",
    "High School Bachelors Masters Ph.d. Total\n",
    "Female 60   54        46      41    201\n",
    "Male   40   44        53      57    194\n",
    "Total  100  98        99      98    395\n",
    "Question: Are gender and education level dependent at 5% level of significance? In\n",
    "other words, given the data collected above, is there a relationship between the\n",
    "gender of an individual and the level of education that they have obtained?\n",
    "H0: education level doesn't depend on gender\n",
    "H1: education level do depend on gender"
   ]
  },
  {
   "cell_type": "code",
   "execution_count": 9,
   "metadata": {},
   "outputs": [
    {
     "name": "stdout",
     "output_type": "stream",
     "text": [
      "Chi Value : 8.01\n",
      "Degree of Freedom: 3.00\n",
      "P Value: 0.045886500891747214\n",
      "Hypothesis rejected as per p-value\n"
     ]
    }
   ],
   "source": [
    "from scipy import stats\n",
    "table = [[60,54,46,41],\n",
    "        [40,44,53,57]]\n",
    "alpha = 0.05\n",
    "chi_score,p_value,dof,Expected_table = stats.chi2_contingency(table)\n",
    "print(\"Chi Value : {:.2f}\".format(chi_score))\n",
    "print(\"Degree of Freedom: {:.2f}\".format(dof))\n",
    "print(\"P Value: {}\".format(p_value))\n",
    "print(\"Hypothesis rejected as per p-value\") if p_value < alpha else print(\"Hypothesis accepted as  per p-value\")"
   ]
  },
  {
   "cell_type": "code",
   "execution_count": 17,
   "metadata": {},
   "outputs": [
    {
     "name": "stdout",
     "output_type": "stream",
     "text": [
      "Critical Value: 21.02606981748307\n",
      "Hypothesis accepted as  per chi score\n"
     ]
    }
   ],
   "source": [
    "p = 1-alpha\n",
    "critical_value=stats.chi2.ppf(p,dof)\n",
    "print(\"Critical Value: {}\".format(critical_value))\n",
    "print(\"Hypothesis rejected as per chi score\") if chi_score > critical_value else print(\"Hypothesis accepted as  per chi score\")"
   ]
  },
  {
   "cell_type": "markdown",
   "metadata": {},
   "source": [
    "Problem Statement 2:\n",
    "Using the following data, perform a oneway Anova analysis of variance using α=0.05. Write\n",
    "up the results in APA format.\n",
    "[Group1: 51, 45, 33, 45, 67]\n",
    "[Group2: 23, 43, 23, 43, 45]\n",
    "[Group3: 56, 76, 74, 87, 56]\n",
    "H0: All group have equal mean.\n",
    "H1: Difference in mean of group is significant"
   ]
  },
  {
   "cell_type": "code",
   "execution_count": 21,
   "metadata": {},
   "outputs": [],
   "source": [
    "group_1 = [51,45,33,45,67]\n",
    "group_2 = [23,43,23,43,45]\n",
    "group_3 = [56,76,74,87,56]\n",
    "alpha=0.05"
   ]
  },
  {
   "cell_type": "code",
   "execution_count": 22,
   "metadata": {},
   "outputs": [
    {
     "name": "stdout",
     "output_type": "stream",
     "text": [
      "P Value: 0.0030597541434430556\n",
      "Hypothesis rejected as per p-value\n"
     ]
    }
   ],
   "source": [
    "f_value ,p_value = stats.f_oneway(group_1, group_2, group_3)\n",
    "print(\"P Value: {}\".format(p_value)) \n",
    "print(\"Hypothesis rejected as per p-value\") if p_value < alpha else print(\"Hypothesis accepted as  per p-value\")"
   ]
  },
  {
   "cell_type": "code",
   "execution_count": 24,
   "metadata": {},
   "outputs": [
    {
     "name": "stdout",
     "output_type": "stream",
     "text": [
      "Critical Value: 3.8852938346523933\n",
      "Hypothesis rejected as per f-value\n"
     ]
    }
   ],
   "source": [
    "p = 1-alpha\n",
    "k=3 #3 groups\n",
    "N = k*len(group_1) #total number of elements\n",
    "dfw = N-k #degree of freedom within\n",
    "dfb = k-1 #degree of freedom in between\n",
    "critical_value=stats.f.ppf(p, dfb, dfw)\n",
    "print(\"Critical Value: {}\".format(critical_value)) #convert alpha to critical_value\n",
    "print(\"Hypothesis rejected as per f-value\") if f_value > critical_value else print(\"Hypothesis accepted as  per f-value\")"
   ]
  },
  {
   "cell_type": "markdown",
   "metadata": {},
   "source": [
    "Problem Statement 3:\n",
    "Calculate F Test for given 10, 20, 30, 40, 50 and 5,10,15, 20, 25 For 10, 20, 30, 40, 50."
   ]
  },
  {
   "cell_type": "code",
   "execution_count": 28,
   "metadata": {},
   "outputs": [
    {
     "name": "stdout",
     "output_type": "stream",
     "text": [
      "f_Value : 4.0\n"
     ]
    }
   ],
   "source": [
    "a=[10,20,30,40,50]\n",
    "b=[5,10,15,20,25]\n",
    "\n",
    "import numpy as np\n",
    "func_std = lambda x: (np.std(x,ddof=1))**2\n",
    "f_value = func_std(a)/func_std(b)\n",
    "print(\"f_Value : {}\".format(f_value))"
   ]
  }
 ],
 "metadata": {
  "kernelspec": {
   "display_name": "Python 3",
   "language": "python",
   "name": "python3"
  },
  "language_info": {
   "codemirror_mode": {
    "name": "ipython",
    "version": 3
   },
   "file_extension": ".py",
   "mimetype": "text/x-python",
   "name": "python",
   "nbconvert_exporter": "python",
   "pygments_lexer": "ipython3",
   "version": "3.7.7"
  }
 },
 "nbformat": 4,
 "nbformat_minor": 4
}
