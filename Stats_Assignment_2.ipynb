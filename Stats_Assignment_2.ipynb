{
 "cells": [
  {
   "cell_type": "markdown",
   "metadata": {},
   "source": [
    "Problem Statement 1:\n",
    "In each of the following situations, state whether it is a correctly stated hypothesis\n",
    "testing problem and why?\n",
    "1. 𝐻0: 𝜇 = 25, 𝐻1: 𝜇 ≠ 25\n",
    "2. 𝐻0: 𝜎 > 10, 𝐻1: 𝜎 = 10\n",
    "3. 𝐻0: 𝑥 = 50, 𝐻1: 𝑥 ≠ 50\n",
    "4. 𝐻0: 𝑝 = 0.1, 𝐻1: 𝑝 = 0.5\n",
    "5. 𝐻0: 𝑠 = 30, 𝐻1: 𝑠 > 30"
   ]
  },
  {
   "cell_type": "markdown",
   "metadata": {},
   "source": [
    "When writing hypotheses there are three things that we need to know: \n",
    "(1) the parameter that we are testing -->single mean(𝜇), paired means(𝜇_d), a single proportion(𝑝), the difference between two independent means(𝜇_1-𝜇_2), the difference between two proportions(𝑝_1-𝑝_2), a simple linear regression slope(Beta), and a correlation(rho). \n",
    "(2) the direction of the test (non-directional, right-tailed or left-tailed)-->research will give us direction\n",
    "(3) the value of the hypothesized parameter-->research will give us the value"
   ]
  },
  {
   "cell_type": "markdown",
   "metadata": {},
   "source": [
    "1. 𝐻0: 𝜇 = 25, 𝐻1: 𝜇 ≠ 25--> Hypothesis correctly stated.\n",
    "2. 𝐻0: 𝜎 > 10, 𝐻1: 𝜎 = 10--> Hypothesis correctly stated.\n",
    "3. 𝐻0: 𝑥 = 50, 𝐻1: 𝑥 ≠ 50--> Hypothesis not correct, since not made on a sample.\n",
    "4. 𝐻0: 𝑝 = 0.1, 𝐻1: 𝑝 = 0.5--> Hypothesis correctly stated.\n",
    "5. 𝐻0: 𝑠 = 30, 𝐻1: 𝑠 > 30--> Hypothesis not correct, since not made on a sample."
   ]
  },
  {
   "cell_type": "markdown",
   "metadata": {},
   "source": [
    "Problem Statement 2:\n",
    "The college bookstore tells prospective students that the average cost of its\n",
    "textbooks is Rs. 52 with a standard deviation of Rs. 4.50. A group of smart statistics\n",
    "students thinks that the average cost is higher. To test the bookstore’s claim against\n",
    "their alternative, the students will select a random sample of size 100. Assume that\n",
    "the mean from their random sample is Rs. 52.80. Perform a hypothesis test at the\n",
    "5% level of significance and state your decision.\n",
    "H0: mu=52\n",
    "H1: mu!=52"
   ]
  },
  {
   "cell_type": "markdown",
   "metadata": {},
   "source": [
    "H0: mu=52\n",
    "H1: mu!=52"
   ]
  },
  {
   "cell_type": "code",
   "execution_count": 1,
   "metadata": {},
   "outputs": [
    {
     "data": {
      "text/plain": [
       "1.7777777777777715"
      ]
     },
     "execution_count": 1,
     "metadata": {},
     "output_type": "execute_result"
    }
   ],
   "source": [
    "from scipy import stats\n",
    "import numpy as np\n",
    "\n",
    "sigma,n,mu,x_mean = 4.5,100,52,52.8\n",
    "z_test = (x_mean-mu)/(sigma/np.sqrt(n))\n",
    "z_test"
   ]
  },
  {
   "cell_type": "code",
   "execution_count": 2,
   "metadata": {},
   "outputs": [
    {
     "data": {
      "text/plain": [
       "1.959963984540054"
      ]
     },
     "execution_count": 2,
     "metadata": {},
     "output_type": "execute_result"
    }
   ],
   "source": [
    "alpha = 0.05\n",
    "z_critical=stats.norm.ppf(1-alpha/2) #Two-tail test\n",
    "z_critical"
   ]
  },
  {
   "cell_type": "code",
   "execution_count": 3,
   "metadata": {},
   "outputs": [
    {
     "name": "stdout",
     "output_type": "stream",
     "text": [
      "H0 accepted\n"
     ]
    }
   ],
   "source": [
    "print(\"H0 rejected\") if z_test > z_critical else print(\"H0 accepted\")"
   ]
  },
  {
   "cell_type": "markdown",
   "metadata": {},
   "source": [
    "Problem Statement 3:\n",
    "A certain chemical pollutant in the Genesee River has been constant for several\n",
    "years with mean μ = 34 ppm (parts per million) and standard deviation σ = 8 ppm. A\n",
    "group of factory representatives whose companies discharge liquids into the river is\n",
    "now claiming that they have lowered the average with improved filtration devices. A\n",
    "group of environmentalists will test to see if this is true at the 1% level of\n",
    "significance. Assume that their sample of size 50 gives a mean of 32.5 ppm.\n",
    "Perform a hypothesis test at the 1% level of significance and state your decision."
   ]
  },
  {
   "cell_type": "code",
   "execution_count": 4,
   "metadata": {},
   "outputs": [],
   "source": [
    "H0: mu = 34\n",
    "H1:mu != 34"
   ]
  },
  {
   "cell_type": "code",
   "execution_count": 5,
   "metadata": {},
   "outputs": [
    {
     "data": {
      "text/plain": [
       "-1.3258252147247767"
      ]
     },
     "execution_count": 5,
     "metadata": {},
     "output_type": "execute_result"
    }
   ],
   "source": [
    "from scipy import stats\n",
    "import numpy as np\n",
    "\n",
    "sigma,n,mu,x_mean = 8,50,34,32.5\n",
    "z_test = (x_mean-mu)/(sigma/np.sqrt(n))\n",
    "z_test"
   ]
  },
  {
   "cell_type": "code",
   "execution_count": 6,
   "metadata": {},
   "outputs": [
    {
     "data": {
      "text/plain": [
       "2.5758293035489004"
      ]
     },
     "execution_count": 6,
     "metadata": {},
     "output_type": "execute_result"
    }
   ],
   "source": [
    "alpha = 0.01\n",
    "z_critical=stats.norm.ppf(1-alpha/2) #Two-tail test\n",
    "z_critical"
   ]
  },
  {
   "cell_type": "code",
   "execution_count": 7,
   "metadata": {},
   "outputs": [
    {
     "name": "stdout",
     "output_type": "stream",
     "text": [
      "H0 accepted\n"
     ]
    }
   ],
   "source": [
    "print(\"H0 rejected\") if z_test > z_critical else print(\"H0 accepted\")"
   ]
  },
  {
   "cell_type": "markdown",
   "metadata": {},
   "source": [
    "Problem Statement 4:\n",
    "Based on population figures and other general information on the U.S. population,\n",
    "suppose it has been estimated that, on average, a family of four in the U.S. spends\n",
    "about $1135 annually on dental expenditures. Suppose further that a regional dental\n",
    "association wants to test to determine if this figure is accurate for their area of\n",
    "country. To test this, 22 families of 4 are randomly selected from the population in\n",
    "that area of the country and a log is kept of the family’s dental expenditure for one\n",
    "year. The resulting data are given below. Assuming, that dental expenditure is\n",
    "normally distributed in the population, use the data and an alpha of 0.05 to test the\n",
    "dental association’s hypothesis.\n",
    "x=[1008, 812, 1117, 1323, 1308, 1415, 831, 1021, 1287, 851, 930, 730, 699,\n",
    "872, 913, 944, 954, 987, 1695, 995, 1003, 994]"
   ]
  },
  {
   "cell_type": "markdown",
   "metadata": {},
   "source": [
    "H0: mu = 1135\n",
    "H1: mu != 1135"
   ]
  },
  {
   "cell_type": "code",
   "execution_count": 8,
   "metadata": {},
   "outputs": [],
   "source": [
    "x=[1008, 812, 1117, 1323, 1308, 1415, 831, 1021, 1287, 851, 930, 730, 699, 872, 913, 944, 954, 987, 1695, 995, 1003, 994]"
   ]
  },
  {
   "cell_type": "code",
   "execution_count": 9,
   "metadata": {},
   "outputs": [
    {
     "name": "stdout",
     "output_type": "stream",
     "text": [
      "0.016406635559183057\n"
     ]
    }
   ],
   "source": [
    "from scipy import stats\n",
    "import numpy as np\n",
    "\n",
    "#Since n<30, we use ttest\n",
    "alpha = 0.05\n",
    "mu = 1165\n",
    "t_value,p_value = stats.ttest_1samp(x,mu)\n",
    "print(p_value)"
   ]
  },
  {
   "cell_type": "code",
   "execution_count": 10,
   "metadata": {},
   "outputs": [
    {
     "name": "stdout",
     "output_type": "stream",
     "text": [
      "H0 rejected\n"
     ]
    }
   ],
   "source": [
    "print(\"H0 rejected\") if p_value < alpha else print(\"H0 accepted\")"
   ]
  },
  {
   "cell_type": "markdown",
   "metadata": {},
   "source": [
    "Problem Statement 5:\n",
    "In a report prepared by the Economic Research Department of a major bank the\n",
    "Department manager maintains that the average annual family income on Metropolis\n",
    "is $48,432. What do you conclude about the validity of the report if a random sample\n",
    "of 400 families shows and average income of $48,574 with a standard deviation of\n",
    "2000?"
   ]
  },
  {
   "cell_type": "markdown",
   "metadata": {},
   "source": [
    "H0 : mu = 48432\n",
    "H1 : mu != 48432"
   ]
  },
  {
   "cell_type": "code",
   "execution_count": 11,
   "metadata": {},
   "outputs": [
    {
     "data": {
      "text/plain": [
       "1.42"
      ]
     },
     "execution_count": 11,
     "metadata": {},
     "output_type": "execute_result"
    }
   ],
   "source": [
    "from scipy import stats\n",
    "import numpy as np\n",
    "\n",
    "sigma,n,mu,x_mean = 2000,400,48432,48574\n",
    "z_test = (x_mean-mu)/(sigma/np.sqrt(n))\n",
    "z_test"
   ]
  },
  {
   "cell_type": "code",
   "execution_count": 12,
   "metadata": {},
   "outputs": [
    {
     "data": {
      "text/plain": [
       "1.959963984540054"
      ]
     },
     "execution_count": 12,
     "metadata": {},
     "output_type": "execute_result"
    }
   ],
   "source": [
    "#Assume alpha=5%\n",
    "alpha = 0.05\n",
    "z_critical=stats.norm.ppf(1-alpha/2) #Two-tail test\n",
    "z_critical"
   ]
  },
  {
   "cell_type": "code",
   "execution_count": 13,
   "metadata": {},
   "outputs": [
    {
     "name": "stdout",
     "output_type": "stream",
     "text": [
      "H0 accepted\n"
     ]
    }
   ],
   "source": [
    "print(\"H0 rejected\") if z_test > z_critical else print(\"H0 accepted\")"
   ]
  },
  {
   "cell_type": "markdown",
   "metadata": {},
   "source": [
    "Problem Statement 6:\n",
    "Suppose that in past years the average price per square foot for warehouses in the\n",
    "United States has been $32.28. A national real estate investor wants to determine\n",
    "whether that figure has changed now. The investor hires a researcher who randomly\n",
    "samples 19 warehouses that are for sale across the United States and finds that the\n",
    "mean price per square foot is $31.67, with a standard deviation of $1.29. assume\n",
    "that the prices of warehouse footage are normally distributed in population. If the\n",
    "researcher uses a 5% level of significance, what statistical conclusion can be\n",
    "reached? What are the hypotheses?"
   ]
  },
  {
   "cell_type": "markdown",
   "metadata": {},
   "source": [
    "H0: mu >=32.28\n",
    "H1: mu<32.28"
   ]
  },
  {
   "cell_type": "code",
   "execution_count": 14,
   "metadata": {},
   "outputs": [
    {
     "data": {
      "text/plain": [
       "-2.06118477175179"
      ]
     },
     "execution_count": 14,
     "metadata": {},
     "output_type": "execute_result"
    }
   ],
   "source": [
    "from scipy import stats\n",
    "import numpy as np\n",
    "\n",
    "#n<30 use t-test\n",
    "\n",
    "sigma,n,mu,x_mean = 1.29,19,32.28,31.67\n",
    "t_test = (x_mean-mu)/(sigma/np.sqrt(n))\n",
    "t_test"
   ]
  },
  {
   "cell_type": "code",
   "execution_count": 15,
   "metadata": {},
   "outputs": [
    {
     "data": {
      "text/plain": [
       "1.7340636066175354"
      ]
     },
     "execution_count": 15,
     "metadata": {},
     "output_type": "execute_result"
    }
   ],
   "source": [
    "alpha = 0.05\n",
    "p = 1-alpha\n",
    "df = n-1\n",
    "t_critical = stats.t.ppf(p,df)\n",
    "t_critical"
   ]
  },
  {
   "cell_type": "code",
   "execution_count": 16,
   "metadata": {},
   "outputs": [
    {
     "name": "stdout",
     "output_type": "stream",
     "text": [
      "H0 accepted\n"
     ]
    }
   ],
   "source": [
    "print(\"H0 rejected\") if t_test > t_critical else print(\"H0 accepted\")"
   ]
  },
  {
   "cell_type": "markdown",
   "metadata": {},
   "source": [
    "Problem Statement 7:\n",
    "Fill in the blank spaces in the table and draw your conclusions from it.\n",
    "Acceptance         (Sample Size) α     (β= at 𝜇 = 52) (β= at 𝜇 = 50.5)    Conclusion_Mu=52         Conclusion_mu=50.5\n",
    "48.5 < x̄ < 51.5     10           0.05         0.0011\t0.1605             Reject Null Hypothesis\tAccept Null Hypothesis\n",
    "48 < x̄ < 52         10           0.05         0.0058\t0.2249             Reject Null Hypothesis\tAccept Null Hypothesis\n",
    "48.81 < x̄ < 51.9    16           0.05         0.0041\t0.4884             Reject Null Hypothesis\tAccept Null Hypothesis\n",
    "48.42 < x̄ < 51.58   16           0.05         0.0016\t0.1717             Reject Null Hypothesis\tAccept Null Hypothesis"
   ]
  },
  {
   "attachments": {},
   "cell_type": "markdown",
   "metadata": {},
   "source": [
    "x_accpt_lower\tx_accpt_upper\tx_mean\ts\tn\tmu_1\tmu_2\tt_1_test\tt_2_test\tBeta_1\tBeta_2\talpha\tt_alpha\tConclusion_mu=52\tConclusion_mu=50.5\n",
    "48.50\t51.50\t50.00\t1.50\t10.00\t52.00\t50.50\t-4.22\t-1.05\t0.0011\t0.1605\t0.05\t1.73\tReject Null Hypothesis\tAccept Null Hypothesis\n",
    "48.00\t52.00\t50.00\t2.00\t10.00\t52.00\t50.50\t-3.16\t-0.79\t0.0058\t0.2249\t0.05\t1.73\tReject Null Hypothesis\tAccept Null Hypothesis\n",
    "48.81\t51.90\t50.36\t1.55\t10.00\t52.00\t50.50\t-3.37\t-0.30\t0.0041\t0.4884\t0.05\t1.73\tReject Null Hypothesis\tAccept Null Hypothesis\n",
    "48.42\t51.58\t50.00\t1.58\t10.00\t52.00\t50.50\t-4.00\t-1.00\t0.0016\t0.1717\t0.05\t1.73\tReject Null Hypothesis\tAccept Null Hypothesis"
   ]
  },
  {
   "cell_type": "markdown",
   "metadata": {},
   "source": [
    "Problem Statement 8:\n",
    "Find the t-score for a sample size of 16 taken from a population with mean 10 when\n",
    "the sample mean is 12 and the sample standard deviation is 1.5."
   ]
  },
  {
   "cell_type": "code",
   "execution_count": 17,
   "metadata": {},
   "outputs": [
    {
     "data": {
      "text/plain": [
       "5.333333333333333"
      ]
     },
     "execution_count": 17,
     "metadata": {},
     "output_type": "execute_result"
    }
   ],
   "source": [
    "from scipy import stats\n",
    "import numpy as np\n",
    "\n",
    "#n<30 use t-test\n",
    "\n",
    "sigma,n,mu,x_mean = 1.5,16,10,12\n",
    "t_test = (x_mean-mu)/(sigma/np.sqrt(n))\n",
    "t_test"
   ]
  },
  {
   "cell_type": "markdown",
   "metadata": {},
   "source": [
    "Problem Statement 9:\n",
    "Find the t-score below which we can expect 99% of sample means will fall if samples\n",
    "of size 16 are taken from a normally distributed population."
   ]
  },
  {
   "cell_type": "code",
   "execution_count": 18,
   "metadata": {},
   "outputs": [
    {
     "data": {
      "text/plain": [
       "2.602480294995493"
      ]
     },
     "execution_count": 18,
     "metadata": {},
     "output_type": "execute_result"
    }
   ],
   "source": [
    "alpha=0.01\n",
    "p = 1-alpha\n",
    "n = 16\n",
    "df = n-1\n",
    "t_score = stats.t.ppf(p,df)\n",
    "t_score"
   ]
  },
  {
   "cell_type": "markdown",
   "metadata": {},
   "source": [
    "Problem Statement 10:\n",
    "If a random sample of size 25 drawn from a normal population gives a mean of 60\n",
    "and a standard deviation of 4, find the range of t-scores where we can expect to find\n",
    "the middle 95% of all sample means. Compute the probability that (−𝑡0.05 <𝑡<𝑡0.10)."
   ]
  },
  {
   "cell_type": "code",
   "execution_count": 19,
   "metadata": {},
   "outputs": [
    {
     "data": {
      "text/plain": [
       "[2.063898561628017, -2.063898561628017]"
      ]
     },
     "execution_count": 19,
     "metadata": {},
     "output_type": "execute_result"
    }
   ],
   "source": [
    "n = 25\n",
    "sam_mean = 60\n",
    "s = 4\n",
    "p_alpha =0.95\n",
    "alpha = 1-p_alpha\n",
    "p = 1-(alpha)/2\n",
    "\n",
    "lv = sam_mean - stats.t.ppf(p,n-1)*(s/np.sqrt(n))\n",
    "hv = sam_mean + stats.t.ppf(p,n-1)*(s/np.sqrt(n))\n",
    "ls = (sam_mean-lv)/(s/np.sqrt(n))\n",
    "hs = (sam_mean-hv)/(s/np.sqrt(n))\n",
    "[ls,hs]"
   ]
  },
  {
   "cell_type": "code",
   "execution_count": 20,
   "metadata": {},
   "outputs": [
    {
     "data": {
      "text/plain": [
       "0.4"
      ]
     },
     "execution_count": 20,
     "metadata": {},
     "output_type": "execute_result"
    }
   ],
   "source": [
    "#p(-t0.05<t<t0.1)\n",
    "prob = (0.5-0.05)+(0.05-0.1)\n",
    "prob"
   ]
  },
  {
   "cell_type": "markdown",
   "metadata": {},
   "source": [
    "Problem Statement 11:\n",
    "Two-tailed test for difference between two population means\n",
    "Is there evidence to conclude that the number of people travelling from Bangalore to\n",
    "Chennai is different from the number of people travelling from Bangalore to Hosur in\n",
    "a week, given the following:\n",
    "Population 1: Bangalore to Chennai n1 = 1200\n",
    "x1 = 452\n",
    "s1 = 212\n",
    "Population 2: Bangalore to Hosur n2 = 800\n",
    "x2 = 523\n",
    "s2 = 185"
   ]
  },
  {
   "cell_type": "markdown",
   "metadata": {},
   "source": [
    "H0: mu1-mu2 =0\n",
    "H1: mu1-mu2 != 0"
   ]
  },
  {
   "cell_type": "code",
   "execution_count": 21,
   "metadata": {},
   "outputs": [
    {
     "data": {
      "text/plain": [
       "-7.926428526759299"
      ]
     },
     "execution_count": 21,
     "metadata": {},
     "output_type": "execute_result"
    }
   ],
   "source": [
    "#using t-test assuming each population is at least 20 times larger than its respective sample.\n",
    "n1= 1200\n",
    "x1 =452\n",
    "s1=212\n",
    "\n",
    "n2=800\n",
    "x2=523\n",
    "s2=185\n",
    "\n",
    "se = np.sqrt(s1**2/n1 +s2**2/n2)\n",
    "t_test = (x1-x2)/se\n",
    "t_test"
   ]
  },
  {
   "cell_type": "code",
   "execution_count": 22,
   "metadata": {},
   "outputs": [
    {
     "data": {
      "text/plain": [
       "1860.2560592148861"
      ]
     },
     "execution_count": 22,
     "metadata": {},
     "output_type": "execute_result"
    }
   ],
   "source": [
    "df = (s1**2/n1 + s2**2/n2)**2 / ( (s1**2 / n1)**2 / (n1 - 1)  + (s2**2 / n2)**2 / (n2 - 1) )\n",
    "df"
   ]
  },
  {
   "cell_type": "code",
   "execution_count": 23,
   "metadata": {},
   "outputs": [
    {
     "data": {
      "text/plain": [
       "1.9612400396405612"
      ]
     },
     "execution_count": 23,
     "metadata": {},
     "output_type": "execute_result"
    }
   ],
   "source": [
    "#Assuming alpha=0.05\n",
    "alpha=0.05\n",
    "p = 1-alpha/2\n",
    "n = 16\n",
    "t_score = stats.t.ppf(p,df)\n",
    "t_score"
   ]
  },
  {
   "cell_type": "code",
   "execution_count": 24,
   "metadata": {},
   "outputs": [
    {
     "name": "stdout",
     "output_type": "stream",
     "text": [
      "H0 accepted\n"
     ]
    }
   ],
   "source": [
    "print(\"H0 rejected\") if t_test > t_critical else print(\"H0 accepted\")"
   ]
  },
  {
   "cell_type": "markdown",
   "metadata": {},
   "source": [
    "Problem Statement 12:\n",
    "Is there evidence to conclude that the number of people preferring Duracell battery is\n",
    "different from the number of people preferring Energizer battery, given the following:\n",
    "Population 1: Duracell\n",
    "n1 = 100\n",
    "x1 = 308\n",
    "s1 = 84\n",
    "Population 2: Energizer\n",
    "n2 = 100\n",
    "x2 = 254\n",
    "s2 = 67"
   ]
  },
  {
   "cell_type": "markdown",
   "metadata": {},
   "source": [
    "H0: mu1-mu2 =0\n",
    "H1: mu1-mu2 != 0"
   ]
  },
  {
   "cell_type": "code",
   "execution_count": 33,
   "metadata": {},
   "outputs": [
    {
     "data": {
      "text/plain": [
       "5.025702668336442"
      ]
     },
     "execution_count": 33,
     "metadata": {},
     "output_type": "execute_result"
    }
   ],
   "source": [
    "#using t-test assuming each population is at least 20 times larger than its respective sample.\n",
    "n1 = 100\n",
    "x1 = 308\n",
    "s1 = 84\n",
    "\n",
    "n2 = 100\n",
    "x2 = 254\n",
    "s2 = 67\n",
    "\n",
    "se = np.sqrt(s1**2/n1 +s2**2/n2)\n",
    "t_test = (x1-x2)/se\n",
    "t_test"
   ]
  },
  {
   "cell_type": "code",
   "execution_count": 34,
   "metadata": {},
   "outputs": [
    {
     "data": {
      "text/plain": [
       "188.67235245796877"
      ]
     },
     "execution_count": 34,
     "metadata": {},
     "output_type": "execute_result"
    }
   ],
   "source": [
    "df = (s1**2/n1 + s2**2/n2)**2 / ( (s1**2 / n1)**2 / (n1 - 1)  + (s2**2 / n2)**2 / (n2 - 1) )\n",
    "df"
   ]
  },
  {
   "cell_type": "code",
   "execution_count": 35,
   "metadata": {},
   "outputs": [
    {
     "data": {
      "text/plain": [
       "1.9726171529778553"
      ]
     },
     "execution_count": 35,
     "metadata": {},
     "output_type": "execute_result"
    }
   ],
   "source": [
    "#Assuming alpha=0.05\n",
    "alpha=0.05\n",
    "p = 1-alpha/2\n",
    "n = 16\n",
    "t_score = stats.t.ppf(p,df)\n",
    "t_score"
   ]
  },
  {
   "cell_type": "code",
   "execution_count": 36,
   "metadata": {},
   "outputs": [
    {
     "name": "stdout",
     "output_type": "stream",
     "text": [
      "H0 rejected\n"
     ]
    }
   ],
   "source": [
    "print(\"H0 rejected\") if t_test > t_critical else print(\"H0 accepted\")"
   ]
  },
  {
   "cell_type": "markdown",
   "metadata": {},
   "source": [
    "Problem Statement 13:\n",
    "Pooled estimate of the population variance\n",
    "Does the data provide sufficient evidence to conclude that average percentage\n",
    "increase in the price of sugar differs when it is sold at two different prices?\n",
    "Population 1: Price of sugar = Rs. 27.50 n1 = 14\n",
    "x1 = 0.317%\n",
    "s1 = 0.12%\n",
    "Population 2: Price of sugar = Rs. 20.00 n2 = 9\n",
    "x2 = 0.21%\n",
    "s2 = 0.11%"
   ]
  },
  {
   "cell_type": "markdown",
   "metadata": {},
   "source": [
    "H0 : mu1 = mu2\n",
    "H1 : mu1 != mu2"
   ]
  },
  {
   "cell_type": "code",
   "execution_count": 29,
   "metadata": {},
   "outputs": [
    {
     "data": {
      "text/plain": [
       "5.025702668336442"
      ]
     },
     "execution_count": 29,
     "metadata": {},
     "output_type": "execute_result"
    }
   ],
   "source": [
    "#for pooled estimate of the common population variance:\n",
    "s_2 = ((n1-1)*(s1**2)+(n2-1)*(s2**2)) / (n1+n2-2)\n",
    "se = np.sqrt(s_2*(1/n1+1/n2))\n",
    "t_test = (x1-x2)/se\n",
    "t_test"
   ]
  },
  {
   "cell_type": "code",
   "execution_count": 30,
   "metadata": {},
   "outputs": [
    {
     "data": {
      "text/plain": [
       "1.9720174778338955"
      ]
     },
     "execution_count": 30,
     "metadata": {},
     "output_type": "execute_result"
    }
   ],
   "source": [
    "alpha = 0.05\n",
    "p = 1-alpha/2\n",
    "df = n1+n2-2\n",
    "t_critical = stats.t.ppf(p,df)\n",
    "t_critical"
   ]
  },
  {
   "cell_type": "code",
   "execution_count": 31,
   "metadata": {},
   "outputs": [
    {
     "name": "stdout",
     "output_type": "stream",
     "text": [
      "H0 rejected\n"
     ]
    }
   ],
   "source": [
    "print(\"H0 rejected\") if t_test > t_critical else print(\"H0 accepted\")"
   ]
  },
  {
   "cell_type": "markdown",
   "metadata": {},
   "source": [
    "Problem Statement 14:\n",
    "The manufacturers of compact disk players want to test whether a small price\n",
    "reduction is enough to increase sales of their product. Is there evidence that the\n",
    "small price reduction is enough to increase sales of compact disk players?\n",
    "Population 1: Before reduction\n",
    "n1 = 15\n",
    "x1 = Rs. 6598 s1 = Rs. 844\n",
    "Population 2: After reduction n2 = 12\n",
    "x2 = RS. 6870\n",
    "s2 = Rs. 669"
   ]
  },
  {
   "cell_type": "markdown",
   "metadata": {},
   "source": [
    "H0 : mu1 = mu2\n",
    "H1 : mu1 != mu2"
   ]
  },
  {
   "cell_type": "code",
   "execution_count": 38,
   "metadata": {},
   "outputs": [],
   "source": [
    "n1 = 15 \n",
    "x1 = 6598 \n",
    "s1 = 844 \n",
    "n2 = 12 \n",
    "x2 = 6870 \n",
    "s2 = 669"
   ]
  },
  {
   "cell_type": "code",
   "execution_count": 41,
   "metadata": {},
   "outputs": [
    {
     "data": {
      "text/plain": [
       "-0.9098300343990461"
      ]
     },
     "execution_count": 41,
     "metadata": {},
     "output_type": "execute_result"
    }
   ],
   "source": [
    "s_2 = ((n1-1)*(s1**2)+(n2-1)*(s2**2)) / (n1+n2-2)\n",
    "se = np.sqrt(s_2*(1/n1+1/n2))\n",
    "t_test = (x1-x2)/se\n",
    "t_test"
   ]
  },
  {
   "cell_type": "code",
   "execution_count": 43,
   "metadata": {},
   "outputs": [
    {
     "data": {
      "text/plain": [
       "2.059538552753294"
      ]
     },
     "execution_count": 43,
     "metadata": {},
     "output_type": "execute_result"
    }
   ],
   "source": [
    "alpha = 0.05\n",
    "p = 1-alpha/2\n",
    "df = n1+n2-2\n",
    "t_critical = stats.t.ppf(p,df)\n",
    "t_critical"
   ]
  },
  {
   "cell_type": "code",
   "execution_count": 44,
   "metadata": {},
   "outputs": [
    {
     "name": "stdout",
     "output_type": "stream",
     "text": [
      "H0 accepted\n"
     ]
    }
   ],
   "source": [
    "print(\"H0 rejected\") if t_test > t_critical else print(\"H0 accepted\")"
   ]
  },
  {
   "cell_type": "markdown",
   "metadata": {},
   "source": [
    "Problem Statement 15:\n",
    "Comparisons of two population proportions when the hypothesized difference is zero\n",
    "Carry out a two-tailed test of the equality of banks’ share of the car loan market in\n",
    "1980 and 1995.\n",
    "Population 1: 1980\n",
    "n1 = 1000\n",
    "x1 = 53\n",
    "𝑝 1 = 0.53\n",
    "Population 2: 1985\n",
    "n2 = 100\n",
    "x2 = 43\n",
    "𝑝 2= 0.53"
   ]
  },
  {
   "cell_type": "markdown",
   "metadata": {},
   "source": [
    "H0: p1-p2 = 0\n",
    "H1: p1-p2!= 0"
   ]
  },
  {
   "cell_type": "code",
   "execution_count": 45,
   "metadata": {},
   "outputs": [],
   "source": [
    "n1=100\n",
    "x1 = 53\n",
    "p_1 = 0.53\n",
    "n2 = 100\n",
    "x2 = 43\n",
    "#p_2 = 0.53, Data provided #since we know, p_2 = x2/n2. \n",
    "#Data must have got some error so making change.\n",
    "p_2 = 0.43"
   ]
  },
  {
   "cell_type": "code",
   "execution_count": 47,
   "metadata": {},
   "outputs": [
    {
     "data": {
      "text/plain": [
       "1.4153462926807452"
      ]
     },
     "execution_count": 47,
     "metadata": {},
     "output_type": "execute_result"
    }
   ],
   "source": [
    "D=0\n",
    "p = (x1+x2)/(n1+n2)\n",
    "numerator = (p_1-p_2)-D\n",
    "denominator = np.sqrt(p*(1-p)*(1/n1 + 1/n2))\n",
    "z_test = numerator/denominator\n",
    "z_test"
   ]
  },
  {
   "cell_type": "code",
   "execution_count": 50,
   "metadata": {},
   "outputs": [
    {
     "data": {
      "text/plain": [
       "1.959963984540054"
      ]
     },
     "execution_count": 50,
     "metadata": {},
     "output_type": "execute_result"
    }
   ],
   "source": [
    "alpha = 0.05\n",
    "p=1-alpha/2\n",
    "z_criticial=stats.norm.ppf(p)\n",
    "z_criticial"
   ]
  },
  {
   "cell_type": "code",
   "execution_count": 51,
   "metadata": {},
   "outputs": [
    {
     "name": "stdout",
     "output_type": "stream",
     "text": [
      "H0 accepted\n"
     ]
    }
   ],
   "source": [
    "print(\"H0 rejected\") if z_test > z_critical else print(\"H0 accepted\")"
   ]
  },
  {
   "cell_type": "markdown",
   "metadata": {},
   "source": [
    "Problem Statement 16:\n",
    "Carry out a one-tailed test to determine whether the population proportion of\n",
    "traveler’s check buyers who buy at least $2500 in checks when sweepstakes prizes\n",
    "are offered as at least 10% higher than the proportion of such buyers when no\n",
    "sweepstakes are on.\n",
    "Population 1: With sweepstakes\n",
    "n1 = 300\n",
    "x1 = 120\n",
    "𝑝 = 0.40\n",
    "Population 2: No sweepstakes n2 = 700\n",
    "x2 = 140\n",
    "𝑝 2= 0.20"
   ]
  },
  {
   "cell_type": "markdown",
   "metadata": {},
   "source": [
    "H0: p1-p2 >= 0.1\n",
    "H0: p1-p2 < 0.1\n",
    "i.e. one tail test"
   ]
  },
  {
   "cell_type": "code",
   "execution_count": 58,
   "metadata": {},
   "outputs": [],
   "source": [
    "#population 1 : With sweepstakes\n",
    "n1=300\n",
    "x1=120\n",
    "p_1=0.40\n",
    "\n",
    "#population 2: Without\n",
    "n2=700\n",
    "x2=140\n",
    "p_2=0.20\n",
    "\n",
    "D=0.1 #difference in population proportion"
   ]
  },
  {
   "cell_type": "code",
   "execution_count": 63,
   "metadata": {},
   "outputs": [
    {
     "data": {
      "text/plain": [
       "3.1180478223116177"
      ]
     },
     "execution_count": 63,
     "metadata": {},
     "output_type": "execute_result"
    }
   ],
   "source": [
    "numerator = (p_1-p_2)-D\n",
    "denominator = np.sqrt(p_1*(1-p_1)/n1 +p_2*(1-p_2)/n2)\n",
    "z_test = numerator/denominator\n",
    "z_test"
   ]
  },
  {
   "cell_type": "code",
   "execution_count": 64,
   "metadata": {},
   "outputs": [
    {
     "data": {
      "text/plain": [
       "2.3263478740408408"
      ]
     },
     "execution_count": 64,
     "metadata": {},
     "output_type": "execute_result"
    }
   ],
   "source": [
    "alpha = 0.01\n",
    "p=1-alpha\n",
    "z_critical=stats.norm.ppf(p)\n",
    "z_critical"
   ]
  },
  {
   "cell_type": "code",
   "execution_count": 65,
   "metadata": {},
   "outputs": [
    {
     "name": "stdout",
     "output_type": "stream",
     "text": [
      "H0 rejected\n"
     ]
    }
   ],
   "source": [
    "print(\"H0 rejected\") if z_test > z_critical else print(\"H0 accepted\")"
   ]
  },
  {
   "cell_type": "markdown",
   "metadata": {},
   "source": [
    "Problem Statement 17:\n",
    "A die is thrown 132 times with the following results: \n",
    "Number turned up: 1, 2, 3, 4, 5, 6\n",
    "Frequency:       16, 20, 25, 14, 29, 28\n",
    "Is the die unbiased? \n",
    "Consider the degrees of freedom as 𝑝_hat − 1"
   ]
  },
  {
   "cell_type": "markdown",
   "metadata": {},
   "source": [
    "Chi-square for goodness of fit is when we have only one variable dice-rolled\n",
    "H0: die are unbiased i.e. (O-E) = 0\n",
    "H1 : die are biased i.e.  (O-E) != 0"
   ]
  },
  {
   "cell_type": "code",
   "execution_count": 90,
   "metadata": {},
   "outputs": [
    {
     "data": {
      "text/plain": [
       "[22.0, 22.0, 22.0, 22.0, 22.0, 22.0]"
      ]
     },
     "execution_count": 90,
     "metadata": {},
     "output_type": "execute_result"
    }
   ],
   "source": [
    "# for die to be unbiased every number must come equal time\n",
    "n=132\n",
    "value = [1,2,3,4,5,6]\n",
    "O =     [16,20,25,14,29,28]\n",
    "E_val = n/len(value)\n",
    "E = [E_val for _ in range(len(value))]\n",
    "E"
   ]
  },
  {
   "cell_type": "code",
   "execution_count": 91,
   "metadata": {},
   "outputs": [
    {
     "data": {
      "text/plain": [
       "9.0"
      ]
     },
     "execution_count": 91,
     "metadata": {},
     "output_type": "execute_result"
    }
   ],
   "source": [
    "chi_test = 0\n",
    "for i in range(len(O)):\n",
    "    chi_test += (O[i]-E[i])**2/E[i]\n",
    "chi_test"
   ]
  },
  {
   "cell_type": "code",
   "execution_count": 92,
   "metadata": {},
   "outputs": [
    {
     "data": {
      "text/plain": [
       "11.070497693516351"
      ]
     },
     "execution_count": 92,
     "metadata": {},
     "output_type": "execute_result"
    }
   ],
   "source": [
    "alpha = 0.05\n",
    "p= 1-alpha\n",
    "df = len(O)-1\n",
    "chi_critical=stats.chi2.ppf(p,df)\n",
    "chi_critical"
   ]
  },
  {
   "cell_type": "code",
   "execution_count": 95,
   "metadata": {},
   "outputs": [
    {
     "name": "stdout",
     "output_type": "stream",
     "text": [
      "Hypothesis accepted as per chi score\n"
     ]
    }
   ],
   "source": [
    "print(\"Hypothesis rejected as per chi score\") if chi_test > chi_critical else print(\"Hypothesis accepted as per chi score\")"
   ]
  },
  {
   "cell_type": "markdown",
   "metadata": {},
   "source": [
    "Problem Statement 18:\n",
    "In a certain town, there are about one million eligible voters. A simple random\n",
    "sample of 10,000 eligible voters was chosen to study the relationship between\n",
    "gender and participation in the last election. The results are summarized in the\n",
    "following 2X2 (read two by two) contingency table:\n",
    "          Men    Women\n",
    "Voted     2792   3591\n",
    "Not Voted 1486   2131\n",
    "We would want to check whether being a man or a woman (columns) is independent of\n",
    "having voted in the last election (rows). In other words, is “gender and voting independent”?"
   ]
  },
  {
   "cell_type": "markdown",
   "metadata": {},
   "source": [
    "Chisquare test for independence. It is similar to goodness of fit but here it has two variable Formula: \n",
    "\n",
    "Expected(row,column) = (row_total * column_total) / grand_total\n",
    "\n",
    "H0: gender is gender and voting independent\n",
    "H1: gender is gender and voting dependent"
   ]
  },
  {
   "cell_type": "code",
   "execution_count": 105,
   "metadata": {},
   "outputs": [
    {
     "data": {
      "text/plain": [
       "[[2792, 3591], [1486, 2131]]"
      ]
     },
     "execution_count": 105,
     "metadata": {},
     "output_type": "execute_result"
    }
   ],
   "source": [
    "table =[[2792,3591],\n",
    "       [1486,2131]]\n",
    "table"
   ]
  },
  {
   "cell_type": "code",
   "execution_count": 112,
   "metadata": {},
   "outputs": [
    {
     "name": "stdout",
     "output_type": "stream",
     "text": [
      "dof:1 and p:0.01047464310091866\n"
     ]
    }
   ],
   "source": [
    "chi_test, prob, dof, expected = stats.chi2_contingency(table)\n",
    "print('dof:{} and p:{}'.format(dof,prob))"
   ]
  },
  {
   "cell_type": "code",
   "execution_count": 113,
   "metadata": {},
   "outputs": [
    {
     "data": {
      "text/plain": [
       "3.841458820694124"
      ]
     },
     "execution_count": 113,
     "metadata": {},
     "output_type": "execute_result"
    }
   ],
   "source": [
    "alpha = 0.05\n",
    "p = 1-alpha\n",
    "chi_critical = stats.chi2.ppf(p, dof)\n",
    "chi_critical"
   ]
  },
  {
   "cell_type": "code",
   "execution_count": 111,
   "metadata": {},
   "outputs": [
    {
     "name": "stdout",
     "output_type": "stream",
     "text": [
      "Hypothesis rejected as per chi score\n"
     ]
    }
   ],
   "source": [
    "print(\"Hypothesis rejected as per chi score\") if chi_test > chi_critical else print(\"Hypothesis accepted as per chi score\")"
   ]
  },
  {
   "cell_type": "markdown",
   "metadata": {},
   "source": [
    "Problem Statement 19:\n",
    "A sample of 100 voters are asked which of four candidates they would vote for in an\n",
    "election. The number supporting each candidate is given below:\n",
    "Higgins Reardon White Charlton\n",
    "41      19      24    16\n",
    "Do the data suggest that all candidates are equally popular? \n",
    "[Chi-Square = 14.96, with 3 df, 𝑝 0.05 ."
   ]
  },
  {
   "cell_type": "code",
   "execution_count": null,
   "metadata": {},
   "outputs": [],
   "source": [
    "Goodness of Fit\n",
    "H0: candidates are equally popular\n",
    "H1: candidates are not equally popular"
   ]
  },
  {
   "cell_type": "code",
   "execution_count": 116,
   "metadata": {},
   "outputs": [
    {
     "data": {
      "text/plain": [
       "[25.0, 25.0, 25.0, 25.0]"
      ]
     },
     "execution_count": 116,
     "metadata": {},
     "output_type": "execute_result"
    }
   ],
   "source": [
    "total_voter = 100\n",
    "vote_O = [41,19,24,16]\n",
    "E_value = total_voter/len(vote_O)\n",
    "vote_E = [E_value for _ in range(len(vote_O))]\n",
    "vote_E"
   ]
  },
  {
   "cell_type": "code",
   "execution_count": 117,
   "metadata": {},
   "outputs": [
    {
     "data": {
      "text/plain": [
       "14.959999999999999"
      ]
     },
     "execution_count": 117,
     "metadata": {},
     "output_type": "execute_result"
    }
   ],
   "source": [
    "chi_test = 0\n",
    "for i in range(len(vote_O)):\n",
    "    chi_test += (vote_O[i]-vote_E[i])**2/vote_E[i]\n",
    "chi_test"
   ]
  },
  {
   "cell_type": "code",
   "execution_count": 118,
   "metadata": {},
   "outputs": [
    {
     "data": {
      "text/plain": [
       "7.814727903251179"
      ]
     },
     "execution_count": 118,
     "metadata": {},
     "output_type": "execute_result"
    }
   ],
   "source": [
    "df = len(vote_O)-1\n",
    "alpha = 0.05\n",
    "p=1-alpha\n",
    "critical = stats.chi2.ppf(p,df)\n",
    "critical"
   ]
  },
  {
   "cell_type": "code",
   "execution_count": 119,
   "metadata": {},
   "outputs": [
    {
     "name": "stdout",
     "output_type": "stream",
     "text": [
      "Hypothesis rejected as per chi score\n"
     ]
    }
   ],
   "source": [
    "print(\"Hypothesis rejected as per chi score\") if chi_test > chi_critical else print(\"Hypothesis accepted as per chi score\")"
   ]
  },
  {
   "cell_type": "markdown",
   "metadata": {},
   "source": [
    "Problem Statement 20:\n",
    "Children of three ages are asked to indicate their preference for three photographs of\n",
    "adults. Do the data suggest that there is a significant relationship between age and\n",
    "photograph preference? What is wrong with this study? \n",
    "[Chi-Square = 29.6, with 4 df: 𝑝 < 0.05].\n",
    "\n",
    "                   Photograph\n",
    "Age Of Child       A    B    C\n",
    "5-6 Years          18   22   20\n",
    "7-8 Years          2    28   40\n",
    "9-10 Years         20   10   40"
   ]
  },
  {
   "cell_type": "markdown",
   "metadata": {},
   "source": [
    "H0: no significant relationship between age and photograph\n",
    "H1:significant relationship between age and photograph"
   ]
  },
  {
   "cell_type": "code",
   "execution_count": 121,
   "metadata": {},
   "outputs": [
    {
     "data": {
      "text/plain": [
       "[[18, 22, 20], [2, 28, 40], [20, 10, 40]]"
      ]
     },
     "execution_count": 121,
     "metadata": {},
     "output_type": "execute_result"
    }
   ],
   "source": [
    "table =[[18,22,20],\n",
    "       [2,28,40],\n",
    "       [20,10,40]]\n",
    "table"
   ]
  },
  {
   "cell_type": "code",
   "execution_count": 122,
   "metadata": {},
   "outputs": [
    {
     "name": "stdout",
     "output_type": "stream",
     "text": [
      "dof:4 and p:5.894582174262606e-06\n"
     ]
    }
   ],
   "source": [
    "chi_test, prob, dof, expected = stats.chi2_contingency(table)\n",
    "print('dof:{} and p:{}'.format(dof,prob))"
   ]
  },
  {
   "cell_type": "code",
   "execution_count": 123,
   "metadata": {},
   "outputs": [
    {
     "data": {
      "text/plain": [
       "9.487729036781154"
      ]
     },
     "execution_count": 123,
     "metadata": {},
     "output_type": "execute_result"
    }
   ],
   "source": [
    "alpha = 0.05\n",
    "p = 1-alpha\n",
    "chi_critical = stats.chi2.ppf(p, dof)\n",
    "chi_critical"
   ]
  },
  {
   "cell_type": "code",
   "execution_count": 124,
   "metadata": {},
   "outputs": [
    {
     "name": "stdout",
     "output_type": "stream",
     "text": [
      "Hypothesis rejected as per chi score\n"
     ]
    }
   ],
   "source": [
    "print(\"Hypothesis rejected as per chi score\") if chi_test > chi_critical else print(\"Hypothesis accepted as per chi score\")"
   ]
  },
  {
   "cell_type": "markdown",
   "metadata": {},
   "source": [
    "Problem Statement 21:\n",
    "A study of conformity using the Asch paradigm involved two conditions: one where\n",
    "one confederate supported the true judgement and another where no confederate\n",
    "gave the correct response.\n",
    "Is there a significant difference between the \"support\" and \"no support\" conditions in the\n",
    "frequency with which individuals are likely to conform? \n",
    "[Chi-Square = 19.87, with 1 df: 𝑝 < 0.05].\n",
    "\n",
    "             Support     No Support\n",
    "Conform      18          40\n",
    "Non conform  32          10"
   ]
  },
  {
   "cell_type": "markdown",
   "metadata": {},
   "source": [
    "H0: no significant difference in support and no support\n",
    "H1: signigicant difference in support and no support"
   ]
  },
  {
   "cell_type": "code",
   "execution_count": 125,
   "metadata": {},
   "outputs": [
    {
     "data": {
      "text/plain": [
       "[[18, 40], [32, 10]]"
      ]
     },
     "execution_count": 125,
     "metadata": {},
     "output_type": "execute_result"
    }
   ],
   "source": [
    "table =[[18,40],\n",
    "       [32,10]]\n",
    "table"
   ]
  },
  {
   "cell_type": "code",
   "execution_count": 126,
   "metadata": {},
   "outputs": [
    {
     "name": "stdout",
     "output_type": "stream",
     "text": [
      "dof:1 and p:2.092221924065813e-05\n"
     ]
    }
   ],
   "source": [
    "chi_test, prob, dof, expected = stats.chi2_contingency(table)\n",
    "print('dof:{} and p:{}'.format(dof,prob))"
   ]
  },
  {
   "cell_type": "code",
   "execution_count": 127,
   "metadata": {},
   "outputs": [
    {
     "data": {
      "text/plain": [
       "3.841458820694124"
      ]
     },
     "execution_count": 127,
     "metadata": {},
     "output_type": "execute_result"
    }
   ],
   "source": [
    "alpha = 0.05\n",
    "p = 1-alpha\n",
    "chi_critical = stats.chi2.ppf(p, dof)\n",
    "chi_critical"
   ]
  },
  {
   "cell_type": "code",
   "execution_count": 128,
   "metadata": {},
   "outputs": [
    {
     "name": "stdout",
     "output_type": "stream",
     "text": [
      "Hypothesis rejected as per chi score\n"
     ]
    }
   ],
   "source": [
    "print(\"Hypothesis rejected as per chi score\") if chi_test > chi_critical else print(\"Hypothesis accepted as per chi score\")"
   ]
  },
  {
   "cell_type": "markdown",
   "metadata": {},
   "source": [
    "Problem Statement 22:\n",
    "We want to test whether short people differ with respect to their leadership qualities\n",
    "(Genghis Khan, Adolf Hitler and Napoleon were all stature-deprived, and how many midget\n",
    "MP's are there?) The following table shows the frequencies with which 43 short people and\n",
    "52 tall people were categorized as \"leaders\", \"followers\" or as \"unclassifiable\". Is there a\n",
    "relationship between height and leadership qualities?\n",
    "[Chi-Square = 10.71, with 2 df: 𝑝 < 0.01].\n",
    "\n",
    "              Height\n",
    "              Short   Tall\n",
    "Leader        12      32\n",
    "Follower      22      14\n",
    "Unclassified  9       6"
   ]
  },
  {
   "cell_type": "markdown",
   "metadata": {},
   "source": [
    "H0: no relationship in between height and leadership quality\n",
    "H1: relationship in between height and leadership quality"
   ]
  },
  {
   "cell_type": "code",
   "execution_count": 130,
   "metadata": {},
   "outputs": [
    {
     "data": {
      "text/plain": [
       "[[12, 32], [22, 14], [9, 6]]"
      ]
     },
     "execution_count": 130,
     "metadata": {},
     "output_type": "execute_result"
    }
   ],
   "source": [
    "table =[[12,32],\n",
    "       [22,14],\n",
    "       [9,6]]\n",
    "table"
   ]
  },
  {
   "cell_type": "code",
   "execution_count": 131,
   "metadata": {},
   "outputs": [
    {
     "name": "stdout",
     "output_type": "stream",
     "text": [
      "dof:2 and p:0.004719280137040844\n"
     ]
    }
   ],
   "source": [
    "chi_test, prob, dof, expected = stats.chi2_contingency(table)\n",
    "print('dof:{} and p:{}'.format(dof,prob))"
   ]
  },
  {
   "cell_type": "code",
   "execution_count": 132,
   "metadata": {},
   "outputs": [
    {
     "data": {
      "text/plain": [
       "5.991464547107979"
      ]
     },
     "execution_count": 132,
     "metadata": {},
     "output_type": "execute_result"
    }
   ],
   "source": [
    "alpha = 0.05\n",
    "p = 1-alpha\n",
    "chi_critical = stats.chi2.ppf(p, dof)\n",
    "chi_critical"
   ]
  },
  {
   "cell_type": "code",
   "execution_count": 133,
   "metadata": {},
   "outputs": [
    {
     "name": "stdout",
     "output_type": "stream",
     "text": [
      "Hypothesis rejected as per chi score\n"
     ]
    }
   ],
   "source": [
    "print(\"Hypothesis rejected as per chi score\") if chi_test > chi_critical else print(\"Hypothesis accepted as per chi score\")"
   ]
  },
  {
   "cell_type": "markdown",
   "metadata": {},
   "source": [
    "Problem Statement 23:\n",
    "Each respondent in the Current Population Survey of March 1993 was classified as\n",
    "employed, unemployed, or outside the labor force. The results for men in California age 35-\n",
    "44 can be cross-tabulated by marital status, as follows:\n",
    "\n",
    "                     Married   (Widowed, divorced \n",
    "                                or seperated)       (Never married)  \n",
    "Employed             679        103                 114\n",
    "Unemployed           63         10                  20\n",
    "Not in labor force   42         18                  25\n",
    "\n",
    "Men of different marital status seem to have different distributions of labor force status. Or is\n",
    "this just chance variation? (you may assume the table results from a simple random\n",
    "sample.)"
   ]
  },
  {
   "cell_type": "markdown",
   "metadata": {},
   "source": [
    "H0: no relationship between married status and employment status\n",
    "H1: relationship between married status and employment status"
   ]
  },
  {
   "cell_type": "code",
   "execution_count": 134,
   "metadata": {},
   "outputs": [
    {
     "data": {
      "text/plain": [
       "[[679, 103, 114], [63, 10, 20], [42, 18, 25]]"
      ]
     },
     "execution_count": 134,
     "metadata": {},
     "output_type": "execute_result"
    }
   ],
   "source": [
    "table =[[679,103,114],\n",
    "       [63,10,20],\n",
    "       [42,18,25]]\n",
    "table"
   ]
  },
  {
   "cell_type": "code",
   "execution_count": 135,
   "metadata": {},
   "outputs": [
    {
     "name": "stdout",
     "output_type": "stream",
     "text": [
      "dof:4 and p:2.2949883042859918e-06\n"
     ]
    }
   ],
   "source": [
    "chi_test, prob, dof, expected = stats.chi2_contingency(table)\n",
    "print('dof:{} and p:{}'.format(dof,prob))"
   ]
  },
  {
   "cell_type": "code",
   "execution_count": 136,
   "metadata": {},
   "outputs": [
    {
     "data": {
      "text/plain": [
       "9.487729036781154"
      ]
     },
     "execution_count": 136,
     "metadata": {},
     "output_type": "execute_result"
    }
   ],
   "source": [
    "alpha = 0.05\n",
    "p = 1-alpha\n",
    "chi_critical = stats.chi2.ppf(p, dof)\n",
    "chi_critical"
   ]
  },
  {
   "cell_type": "code",
   "execution_count": 137,
   "metadata": {},
   "outputs": [
    {
     "name": "stdout",
     "output_type": "stream",
     "text": [
      "Hypothesis rejected as per chi score\n"
     ]
    }
   ],
   "source": [
    "print(\"Hypothesis rejected as per chi score\") if chi_test > chi_critical else print(\"Hypothesis accepted as per chi score\")"
   ]
  }
 ],
 "metadata": {
  "kernelspec": {
   "display_name": "Python 3",
   "language": "python",
   "name": "python3"
  },
  "language_info": {
   "codemirror_mode": {
    "name": "ipython",
    "version": 3
   },
   "file_extension": ".py",
   "mimetype": "text/x-python",
   "name": "python",
   "nbconvert_exporter": "python",
   "pygments_lexer": "ipython3",
   "version": "3.7.7"
  }
 },
 "nbformat": 4,
 "nbformat_minor": 4
}
