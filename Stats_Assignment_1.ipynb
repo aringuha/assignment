{
 "cells": [
  {
   "cell_type": "markdown",
   "metadata": {},
   "source": [
    "Problem Statement 1:\n",
    "The marks awarded for an assignment set for a Year 8 class of 20 students were as\n",
    "follows:\n",
    "6 7 5 7 7 8 7 6 9 7 4 10 6 8 8 9 5 6 4 8\n",
    "Calculate the mean, median, mode and standard deviation for the problem"
   ]
  },
  {
   "cell_type": "code",
   "execution_count": 1,
   "metadata": {},
   "outputs": [
    {
     "name": "stdout",
     "output_type": "stream",
     "text": [
      "Mean:  6.85\n",
      "Median:  7.0\n",
      "Mode:  ModeResult(mode=array([7]), count=array([5]))\n",
      "Standard Deviation:  1.5898113095584647\n"
     ]
    }
   ],
   "source": [
    "import numpy as np\n",
    "from scipy import stats\n",
    "\n",
    "dataset= [6, 7, 5, 7, 7, 8, 7, 6, 9, 7, 4, 10, 6, 8, 8, 9, 5, 6, 4, 8]\n",
    "\n",
    "#mean value\n",
    "mean= np.mean(dataset)\n",
    "\n",
    "#median value\n",
    "median = np.median(dataset)\n",
    "\n",
    "#mode value\n",
    "mode= stats.mode(dataset)\n",
    "\n",
    "#standard deviation value\n",
    "std = np.std(dataset)\n",
    "\n",
    "print(\"Mean: \", mean)\n",
    "print(\"Median: \", median)\n",
    "print(\"Mode: \", mode)\n",
    "print(\"Standard Deviation: \", std)"
   ]
  },
  {
   "cell_type": "markdown",
   "metadata": {},
   "source": [
    "Problem Statement 2:\n",
    "The number of calls from motorists per day for roadside service was recorded for a\n",
    "particular month:\n",
    "28, 122, 217, 130, 120, 86, 80, 90, 140, 120, 70, 40, 145, 113, 90, 68, 174, 194, 170,\n",
    "100, 75, 104, 97, 75,\n",
    "123, 100, 75, 104, 97, 75, 123, 100, 89, 120, 109\n",
    "Calculate the mean, median, mode and standard deviation for the problem"
   ]
  },
  {
   "cell_type": "code",
   "execution_count": 2,
   "metadata": {},
   "outputs": [
    {
     "name": "stdout",
     "output_type": "stream",
     "text": [
      "Mean:  107.51428571428572\n",
      "Median:  100.0\n",
      "Mode:  ModeResult(mode=array([75]), count=array([4]))\n",
      "Standard Deviation:  38.77287080168403\n"
     ]
    }
   ],
   "source": [
    "import numpy as np\n",
    "from scipy import stats\n",
    "\n",
    "dataset= [28, 122, 217, 130, 120, 86, 80, 90, 140, 120, 70, 40, 145, 113, 90, 68, 174, 194, 170, \n",
    "          100, 75, 104, 97, 75, 123, 100, 75, 104, 97, 75, 123, 100, 89, 120, 109]\n",
    "\n",
    "#mean value\n",
    "mean= np.mean(dataset)\n",
    "\n",
    "#median value\n",
    "median = np.median(dataset)\n",
    "\n",
    "#mode value\n",
    "mode= stats.mode(dataset)\n",
    "\n",
    "#standard deviation value\n",
    "std = np.std(dataset)\n",
    "\n",
    "print(\"Mean: \", mean)\n",
    "print(\"Median: \", median)\n",
    "print(\"Mode: \", mode)\n",
    "print(\"Standard Deviation: \", std)"
   ]
  },
  {
   "cell_type": "markdown",
   "metadata": {},
   "source": [
    "Problem Statement 3:\n",
    "The number of times I go to the gym in weekdays, are given below along with its\n",
    "associated probability:\n",
    "x = 0, 1, 2, 3, 4, 5\n",
    "f(x) = 0.09, 0.15, 0.40, 0.25, 0.10, 0.01\n",
    "Calculate the mean no. of workouts in a week. Also evaluate the variance involved in it."
   ]
  },
  {
   "cell_type": "code",
   "execution_count": 5,
   "metadata": {},
   "outputs": [
    {
     "name": "stdout",
     "output_type": "stream",
     "text": [
      "Mean no. of Workouts in a week: 2.15 and Variance involved: 1.2275\n"
     ]
    }
   ],
   "source": [
    "x = [0,1,2,3,4,5]\n",
    "fx=[0.09,0.15,0.40,0.25,0.10,0.01]\n",
    "mean = sum(map(lambda x, y: x * y, x, fx))\n",
    "variance = sum(map(lambda x, y: y * (x-mean) **2, x, fx))\n",
    "print('Mean no. of Workouts in a week: {} and Variance involved: {}'.format(mean,variance))"
   ]
  },
  {
   "cell_type": "markdown",
   "metadata": {},
   "source": [
    "Problem Statement 4:\n",
    "Let the continuous random variable D denote the diameter of the hole drilled in an\n",
    "aluminum sheet. The target diameter to be achieved is 12.5mm. Random\n",
    "disturbances in the process often result in inaccuracy.\n",
    "Historical data shows that the distribution of D can be modelled by the PDF (𝑑) =\n",
    "20𝑒−20(𝑑−12.5), 𝑑 ≥ 12.5. If a part with diameter > 12.6 mm needs to be scrapped,\n",
    "what is the proportion of those parts? What is the CDF when the diameter is of 11\n",
    "mm? What is your conclusion regarding the proportion of scraps?"
   ]
  },
  {
   "cell_type": "code",
   "execution_count": 6,
   "metadata": {},
   "outputs": [
    {
     "data": {
      "text/plain": [
       "(0.8646647167633718, 9.599706771316849e-15)"
      ]
     },
     "execution_count": 6,
     "metadata": {},
     "output_type": "execute_result"
    }
   ],
   "source": [
    "import numpy as np\n",
    "import scipy.integrate as integrate\n",
    "pdf = lambda d : 20*np.exp(-20*(d-12.5))\n",
    "\n",
    "#quad is for simple integrate\n",
    "integrate.quad(pdf,12.5,12.6)"
   ]
  },
  {
   "cell_type": "markdown",
   "metadata": {},
   "source": [
    "(i) 0.865 is the area/probability covered by pdf inbetween 12.5 to 12.6 i.e. p(12.5<=x<12.6)=0.865\n",
    "    So proportion of those parts for diameter > 12.6 mm that needs to be scrapped is 1-0.865 = 0.135\n",
    "    \n",
    "(ii) Since we dont have pdf for < 12.5. So, for lesser than 12.5 (11mm) we assume it to be 0. For which CDF=0\n",
    "\n",
    "(iii) Conclusion is most of the parts are between 12.5mm and 12.6 mm at 86.5%, those above 12.6mm is only 13.5% that needs to be scrapped."
   ]
  },
  {
   "cell_type": "markdown",
   "metadata": {},
   "source": [
    "Problem Statement 5:\n",
    "A company manufactures LED bulbs with a faulty rate of 30%. If I randomly select 6\n",
    "chosen LEDs, what is the probability of having 2 faulty LEDs in my sample?\n",
    "Calculate the average value of this process. Also evaluate the standard deviation\n",
    "associated with it."
   ]
  },
  {
   "cell_type": "code",
   "execution_count": 43,
   "metadata": {},
   "outputs": [
    {
     "name": "stdout",
     "output_type": "stream",
     "text": [
      "probability is 0.32\n",
      "Mean is 1.80\n",
      "variance is 1.26\n"
     ]
    }
   ],
   "source": [
    "from scipy.stats import binom\n",
    "from scipy.stats import norm\n",
    "\n",
    "p=binom.pmf(4,6,0.7)\n",
    "print('probability is {:.2f}'.format(p))\n",
    "\n",
    "mean, var = binom.stats(6, 0.3, moments='mv')\n",
    "print('Mean is {:.2f}'.format(mean))\n",
    "print('variance is {:.2f}'.format(var))"
   ]
  },
  {
   "cell_type": "markdown",
   "metadata": {},
   "source": [
    "Problem Statement 6:\n",
    "Gaurav and Barakha are both preparing for entrance exams. Gaurav attempts to\n",
    "solve 8 questions per day with a correction rate of 75%, while Barakha averages\n",
    "around 12 questions per day with a correction rate of 45%. What is the probability\n",
    "that each of them will solve 5 questions correctly? What happens in cases of 4 and 6\n",
    "correct solutions? What do you infer from it? What are the two main governing\n",
    "factors affecting their ability to solve questions correctly? Give a pictorial\n",
    "representation of the same to validate your answer."
   ]
  },
  {
   "cell_type": "code",
   "execution_count": 47,
   "metadata": {},
   "outputs": [
    {
     "name": "stdout",
     "output_type": "stream",
     "text": [
      "probability of solving for 5 and 5 questions is 0.05\n",
      "probability of both solving for 4 and 6 questions is 0.02\n"
     ]
    }
   ],
   "source": [
    "#\n",
    "from scipy.stats import binom\n",
    "from scipy.stats import norm\n",
    "\n",
    "p_gaurav_5 = binom.pmf(5,8,0.75)\n",
    "p_barakha_5 = binom.pmf(5,12,0.45)\n",
    "p_joint_g5_b5 = p_gaurav_5 * p_barakha_5\n",
    "print('probability of solving for 5 and 5 questions is {:.2f}'.format(p_joint_g5_b5))\n",
    "\n",
    "p_gaurav_4 = binom.pmf(4,8,0.75)\n",
    "p_barakha_6 = binom.pmf(6,12,0.45)\n",
    "p_joint_g4_b6 = p_gaurav_4 * p_barakha_6\n",
    "print('probability of both solving for 4 and 6 questions is {:.2f}'.format(p_joint_g4_b6))"
   ]
  },
  {
   "cell_type": "markdown",
   "metadata": {},
   "source": [
    "Here i can say two major governing factor are:\n",
    "1) Relation of number of question per day and correction rate.\n",
    "2) Number of Questions correctly solved"
   ]
  },
  {
   "cell_type": "code",
   "execution_count": 77,
   "metadata": {},
   "outputs": [
    {
     "data": {
      "text/plain": [
       "[Text(0.5, 0, 'probability of solving questions'), Text(0, 0.5, 'Frequency')]"
      ]
     },
     "execution_count": 77,
     "metadata": {},
     "output_type": "execute_result"
    },
    {
     "data": {
      "image/png": "[encoded data removed]",
      "text/plain": [
       "<Figure size 432x288 with 1 Axes>"
      ]
     },
     "metadata": {
      "needs_background": "light"
     },
     "output_type": "display_data"
    }
   ],
   "source": [
    "#Presentation\n",
    "import seaborn as sns\n",
    "import numpy as np\n",
    "\n",
    "lambda_gaurav = lambda x: binom.pmf(x,8,0.75)\n",
    "bin_prob_gaurav = lambda_gaurav(np.arange(1,8,1).tolist())\n",
    "\n",
    "lambda_barakha = lambda x: binom.pmf(x,12,0.45)\n",
    "bin_prob_barakha = lambda_barakha(np.arange(1,12,1).tolist())\n",
    "\n",
    "data_binom = [i*j for i in bin_prob_gaurav for j in bin_prob_barakha]\n",
    "\n",
    "ax = sns.distplot(data_binom,kde=True,color='blue')\n",
    "ax.set(xlabel='probability of solving questions', ylabel='Frequency')"
   ]
  },
  {
   "cell_type": "code",
   "execution_count": 75,
   "metadata": {},
   "outputs": [
    {
     "data": {
      "text/plain": [
       "[Text(0.5, 0, 'Binomial'), Text(0, 0.5, 'Frequency')]"
      ]
     },
     "execution_count": 75,
     "metadata": {},
     "output_type": "execute_result"
    },
    {
     "data": {
      "image/png": "[encoded data removed]",
      "text/plain": [
       "<Figure size 432x288 with 1 Axes>"
      ]
     },
     "metadata": {
      "needs_background": "light"
     },
     "output_type": "display_data"
    }
   ],
   "source": [
    "#Presentation\n",
    "import seaborn as sns\n",
    "import numpy as np\n",
    "\n",
    "n=10000\n",
    "\n",
    "lambda_gaurav = lambda x: binom.pmf(x,8,0.75)\n",
    "bin_prob_gaurav = lambda_gaurav(binom.rvs(n=8,p=0.75,size=n))\n",
    "\n",
    "lambda_barakha = lambda x: binom.pmf(x,12,0.45)\n",
    "bin_prob_barakha = lambda_barakha(binom.rvs(n=12,p=0.45,size=n))\n",
    "\n",
    "data_binom = bin_prob_gaurav * bin_prob_barakha\n",
    "\n",
    "ax = sns.distplot(data_binom,kde=True,color='blue')\n",
    "ax.set(xlabel='Binomial', ylabel='Frequency')"
   ]
  },
  {
   "cell_type": "markdown",
   "metadata": {},
   "source": [
    "Problem Statement 7:\n",
    "Customers arrive at a rate of 72 per hour to my shop. What is the probability of 𝑘\n",
    "customers arriving in 4 minutes? a) 5 customers, b) not more than 3 customers, c)\n",
    "more than 3 customers. Give a pictorial representation of the same to validate your\n",
    "answer."
   ]
  },
  {
   "cell_type": "code",
   "execution_count": 85,
   "metadata": {},
   "outputs": [
    {
     "data": {
      "text/plain": [
       "0.17474768364388296"
      ]
     },
     "execution_count": 85,
     "metadata": {},
     "output_type": "execute_result"
    }
   ],
   "source": [
    "from scipy.stats import poisson\n",
    "import matplotlib.pyplot as plt\n",
    "#this is our assumption saying that at which rate customer are coming on for hr is same as for  min\n",
    "mean = (72/60) * 4\n",
    "# probab for 5 customer in 4 min\n",
    "poisson.pmf(5,mean)"
   ]
  },
  {
   "cell_type": "code",
   "execution_count": 92,
   "metadata": {},
   "outputs": [
    {
     "name": "stdout",
     "output_type": "stream",
     "text": [
      "0.29422991649656405\n"
     ]
    }
   ],
   "source": [
    "# not more than 3\n",
    "#s = sum(list(map(lambda x: poisson.pmf(x, mean), range(0,4,1))))\n",
    "s = sum([poisson.pmf(i, mean) for i in range(4)])\n",
    "print(s)"
   ]
  },
  {
   "cell_type": "code",
   "execution_count": 88,
   "metadata": {},
   "outputs": [
    {
     "name": "stdout",
     "output_type": "stream",
     "text": [
      "0.705770083503436\n"
     ]
    }
   ],
   "source": [
    "# more than 3 customer\n",
    "s_3 = 1-s\n",
    "print(s_3)"
   ]
  },
  {
   "cell_type": "code",
   "execution_count": 93,
   "metadata": {},
   "outputs": [
    {
     "data": {
      "text/plain": [
       "Text(0, 0.5, 'pmf')"
      ]
     },
     "execution_count": 93,
     "metadata": {},
     "output_type": "execute_result"
    },
    {
     "data": {
      "image/png": "[encoded data removed]",
      "text/plain": [
       "<Figure size 432x288 with 1 Axes>"
      ]
     },
     "metadata": {
      "needs_background": "light"
     },
     "output_type": "display_data"
    }
   ],
   "source": [
    "#Presentation\n",
    "a = range(20)\n",
    "plt.plot(a,poisson.pmf(a, mean))\n",
    "plt.xlabel('k-customers')\n",
    "plt.ylabel('pmf')"
   ]
  },
  {
   "cell_type": "markdown",
   "metadata": {},
   "source": [
    "Problem Statement 8:\n",
    "I work as a data analyst in Aeon Learning Pvt. Ltd. After analyzing data, I make\n",
    "reports, where I have the efficiency of entering 77 words per minute with 6 errors per\n",
    "hour. What is the probability that I will commit 2 errors in a 455-word financial report?\n",
    "What happens when the no. of words increases/decreases (in case of 1000 words,\n",
    "255 words)?\n",
    "How is the 𝜆 affected?\n",
    "How does it influence the PMF?\n",
    "Give a pictorial representation of the same to validate your answer."
   ]
  },
  {
   "cell_type": "code",
   "execution_count": 106,
   "metadata": {},
   "outputs": [],
   "source": [
    "# Given for 77 words per minute 6 errors per hour\n",
    "def get_mean(report_word,word_per_min=77,error_per_hour=6):\n",
    "    error_per_min = error_per_hour/60\n",
    "    completion_time_min = report_word/word_per_min\n",
    "    mean_error_word = error_per_min*completion_time_min\n",
    "    return mean_error_word"
   ]
  },
  {
   "cell_type": "code",
   "execution_count": 111,
   "metadata": {},
   "outputs": [
    {
     "name": "stdout",
     "output_type": "stream",
     "text": [
      "0.5909090909090909\n",
      "1.2987012987012987\n",
      "0.3311688311688312\n"
     ]
    }
   ],
   "source": [
    "print(get_mean(455))\n",
    "print(get_mean(1000))\n",
    "print(get_mean(255))"
   ]
  },
  {
   "cell_type": "code",
   "execution_count": 107,
   "metadata": {},
   "outputs": [
    {
     "data": {
      "text/plain": [
       "0.09669027375144444"
      ]
     },
     "execution_count": 107,
     "metadata": {},
     "output_type": "execute_result"
    }
   ],
   "source": [
    "#2 errors for 455 pages\n",
    "prob_to_2_error_455 = poisson.pmf(2,get_mean(455))\n",
    "prob_to_2_error_455"
   ]
  },
  {
   "cell_type": "code",
   "execution_count": 108,
   "metadata": {},
   "outputs": [
    {
     "data": {
      "text/plain": [
       "0.23012815007300153"
      ]
     },
     "execution_count": 108,
     "metadata": {},
     "output_type": "execute_result"
    }
   ],
   "source": [
    "#2 errors for 1000 pages\n",
    "prob_to_2_error_1000 = poisson.pmf(2,get_mean(1000))\n",
    "prob_to_2_error_1000"
   ]
  },
  {
   "cell_type": "code",
   "execution_count": 109,
   "metadata": {},
   "outputs": [
    {
     "data": {
      "text/plain": [
       "0.039377135392854125"
      ]
     },
     "execution_count": 109,
     "metadata": {},
     "output_type": "execute_result"
    }
   ],
   "source": [
    "#2 errors for 255 pages\n",
    "prob_to_2_error_255 = poisson.pmf(2,get_mean(255))\n",
    "prob_to_2_error_255"
   ]
  },
  {
   "cell_type": "markdown",
   "metadata": {},
   "source": [
    "As lambda(mean) get affected as no. of word on financial report changes, thus larger the words number larger will be the lambda given and vice-versa.\n",
    "As lambda get closer to value of error i.e. 2 the pmf goes on increasing."
   ]
  },
  {
   "cell_type": "code",
   "execution_count": 110,
   "metadata": {},
   "outputs": [
    {
     "data": {
      "text/plain": [
       "Text(0, 0.5, 'pmf')"
      ]
     },
     "execution_count": 110,
     "metadata": {},
     "output_type": "execute_result"
    },
    {
     "data": {
      "image/png": "[encoded data removed]",
      "text/plain": [
       "<Figure size 432x288 with 1 Axes>"
      ]
     },
     "metadata": {
      "needs_background": "light"
     },
     "output_type": "display_data"
    }
   ],
   "source": [
    "import matplotlib.pyplot as plt\n",
    "mean = [get_mean(455),get_mean(1000),get_mean(255)]\n",
    "pmf = [poisson.pmf(2,get_mean(455)),poisson.pmf(2,get_mean(1000)),poisson.pmf(2,get_mean(255))]\n",
    "\n",
    "plt.scatter(mean,pmf)\n",
    "plt.xlabel('Lamda')\n",
    "plt.ylabel('pmf')"
   ]
  },
  {
   "cell_type": "code",
   "execution_count": 123,
   "metadata": {},
   "outputs": [
    {
     "data": {
      "text/plain": [
       "Text(0, 0.5, 'pmf')"
      ]
     },
     "execution_count": 123,
     "metadata": {},
     "output_type": "execute_result"
    },
    {
     "data": {
      "image/png": "[encoded data removed]",
      "text/plain": [
       "<Figure size 432x288 with 1 Axes>"
      ]
     },
     "metadata": {
      "needs_background": "light"
     },
     "output_type": "display_data"
    }
   ],
   "source": [
    "# larger range presentation\n",
    "import matplotlib.pyplot as plt\n",
    "mean = [get_mean(i) for i in range(0,5000,50)]\n",
    "pmf = [poisson.pmf(2,get_mean(i)) for i in range(0,5000,50)]\n",
    "\n",
    "plt.scatter(mean,pmf)\n",
    "plt.xlabel('Lamda')\n",
    "plt.ylabel('pmf')"
   ]
  },
  {
   "cell_type": "markdown",
   "metadata": {},
   "source": [
    "Problem Statement 9:\n",
    "Let the continuous random variable D denote the diameter of the hole drilled in an\n",
    "aluminum sheet. The target diameter to be achieved is 12.5mm. Random\n",
    "disturbances in the process often result in inaccuracy.\n",
    "Historical data shows that the distribution of D can be modelled by the PDF, f(d) =\n",
    "20e−20(d−12.5), d ≥ 12.5. If a part with diameter > 12.6 mm needs to be scrapped,\n",
    "what is the proportion of those parts? What is the CDF when the diameter is of 11\n",
    "mm?\n",
    "What is the conclusion of this experiment?"
   ]
  },
  {
   "cell_type": "code",
   "execution_count": 124,
   "metadata": {},
   "outputs": [
    {
     "data": {
      "text/plain": [
       "(0.8646647167633718, 9.599706771316849e-15)"
      ]
     },
     "execution_count": 124,
     "metadata": {},
     "output_type": "execute_result"
    }
   ],
   "source": [
    "import numpy as np\n",
    "import scipy.integrate as integrate\n",
    "pdf = lambda d : 20*np.exp(-20*(d-12.5))\n",
    "\n",
    "#quad is for simple integrate\n",
    "integrate.quad(pdf,12.5,12.6)"
   ]
  },
  {
   "cell_type": "markdown",
   "metadata": {},
   "source": [
    "(i) 0.865 is the area/probability covered by pdf inbetween 12.5 to 12.6 i.e. p(12.5<=x<12.6)=0.865\n",
    "    So proportion of those parts for diameter > 12.6 mm that needs to be scrapped is 1-0.865 = 0.135\n",
    "    \n",
    "(ii) Since we dont have pdf for < 12.5. So, for lesser than 12.5 (11mm) we assume it to be 0. For which CDF=0\n",
    "\n",
    "(iii) Conclusion is most of the parts are between 12.5mm and 12.6 mm at 86.5%, those above 12.6mm is only 13.5% that needs to be scrapped."
   ]
  },
  {
   "cell_type": "markdown",
   "metadata": {},
   "source": [
    "Problem Statement 10:\n",
    "Please compute the following:\n",
    "a) P(Z > 1.26), . P(Z < −0.86), P(Z > −1.37), P(−1.25 < Z < 0.37), . P(Z ≤ −4.6)\n",
    "b) Find the value 𝑧 such that 𝑃(𝑍 > 𝑧) = 0.05\n",
    "c) Find the value of 𝑧 such that 𝑃(−𝑧 < 𝑍 < 𝑧) = 0.99"
   ]
  },
  {
   "cell_type": "code",
   "execution_count": 125,
   "metadata": {},
   "outputs": [
    {
     "data": {
      "text/plain": [
       "0.1038346811213004"
      ]
     },
     "execution_count": 125,
     "metadata": {},
     "output_type": "execute_result"
    }
   ],
   "source": [
    "#A) p(Z>1.26)\n",
    "import scipy.stats as st\n",
    "\n",
    "#sf = survival function(which takes right tail)\n",
    "st.norm.sf(1.26)"
   ]
  },
  {
   "cell_type": "code",
   "execution_count": 126,
   "metadata": {},
   "outputs": [
    {
     "data": {
      "text/plain": [
       "0.1948945212518084"
      ]
     },
     "execution_count": 126,
     "metadata": {},
     "output_type": "execute_result"
    }
   ],
   "source": [
    "#A) p(Z<-0.86) \n",
    "# p(Z<-0.86)== p(z>0.86)\n",
    "1-(st.norm.sf(-0.86))"
   ]
  },
  {
   "cell_type": "code",
   "execution_count": 127,
   "metadata": {},
   "outputs": [
    {
     "data": {
      "text/plain": [
       "0.914656549178033"
      ]
     },
     "execution_count": 127,
     "metadata": {},
     "output_type": "execute_result"
    }
   ],
   "source": [
    "#A) p(Z>-1.37)\n",
    "st.norm.sf(-1.37)"
   ]
  },
  {
   "cell_type": "code",
   "execution_count": 128,
   "metadata": {},
   "outputs": [
    {
     "data": {
      "text/plain": [
       "0.5386589811336914"
      ]
     },
     "execution_count": 128,
     "metadata": {},
     "output_type": "execute_result"
    }
   ],
   "source": [
    "#A) p(-1.25<Z<0.37)\n",
    "st.norm.sf(-1.25)-st.norm.sf(0.37)"
   ]
  },
  {
   "cell_type": "code",
   "execution_count": 129,
   "metadata": {},
   "outputs": [
    {
     "data": {
      "text/plain": [
       "2.1124547024964357e-06"
      ]
     },
     "execution_count": 129,
     "metadata": {},
     "output_type": "execute_result"
    }
   ],
   "source": [
    "#A) p(Z<=-4.6)\n",
    "1-st.norm.sf(-4.6)"
   ]
  },
  {
   "cell_type": "code",
   "execution_count": 130,
   "metadata": {},
   "outputs": [
    {
     "data": {
      "text/plain": [
       "1.6448536269514722"
      ]
     },
     "execution_count": 130,
     "metadata": {},
     "output_type": "execute_result"
    }
   ],
   "source": [
    "#B) p(Z>z)=0.05\n",
    "#ppf gives for left tail test\n",
    "# so, now p(Z<=z)=(1-0.05)\n",
    "(st.norm.ppf(1-0.05))"
   ]
  },
  {
   "cell_type": "code",
   "execution_count": 131,
   "metadata": {},
   "outputs": [
    {
     "data": {
      "text/plain": [
       "0.05000006466107498"
      ]
     },
     "execution_count": 131,
     "metadata": {},
     "output_type": "execute_result"
    }
   ],
   "source": [
    "#cdf also works for Z<=\n",
    "1-st.norm.cdf(1.644853)"
   ]
  },
  {
   "cell_type": "code",
   "execution_count": 132,
   "metadata": {},
   "outputs": [
    {
     "data": {
      "text/plain": [
       "2.5758293035489004"
      ]
     },
     "execution_count": 132,
     "metadata": {},
     "output_type": "execute_result"
    }
   ],
   "source": [
    "#C) p(-z<Z<z) = 0.99 Left 1 tail probability\n",
    "(st.norm.ppf(1-(1-0.99)/2))"
   ]
  },
  {
   "cell_type": "markdown",
   "metadata": {},
   "source": [
    "(1-0.99) = remaining area beyond that area and /2 for two tail test and subtracted from 1 as to get area inbetween not beyond"
   ]
  },
  {
   "cell_type": "markdown",
   "metadata": {},
   "source": [
    "Problem Statement 11:\n",
    "The current flow in a copper wire follow a normal distribution with a mean of 10 𝑚A\n",
    "and a variance of 4 (𝑚𝐴)2.\n",
    "What is the probability that a current measurement will exceed 13 𝑚𝐴? What is the\n",
    "probability that a current measurement is between 9 and 11mA? Determine the\n",
    "current measurement which has a probability of 0.98."
   ]
  },
  {
   "cell_type": "code",
   "execution_count": 138,
   "metadata": {},
   "outputs": [],
   "source": [
    "import numpy as np\n",
    "import scipy.stats as st\n",
    "mean = 10\n",
    "std = np.sqrt(4)"
   ]
  },
  {
   "cell_type": "code",
   "execution_count": 139,
   "metadata": {},
   "outputs": [
    {
     "name": "stdout",
     "output_type": "stream",
     "text": [
      "At 13 mA we have p-value:0.06680720126885807\n"
     ]
    }
   ],
   "source": [
    "#A) p for measurement exceeding 13 mA\n",
    "a=st.norm.sf((13-mean)/std)\n",
    "#as sf give right test result it works fine\n",
    "print(\"At 13 mA we have p-value:{}\".format(a))"
   ]
  },
  {
   "cell_type": "code",
   "execution_count": 140,
   "metadata": {},
   "outputs": [
    {
     "name": "stdout",
     "output_type": "stream",
     "text": [
      "In between 9 and 11 mA we have p-value:0.38292492254802624\n"
     ]
    }
   ],
   "source": [
    "#B) p for measurement between 9 and 11 mA\n",
    "b=st.norm.sf((9-mean)/std)\n",
    "c=st.norm.sf((11-mean)/std)\n",
    "d=b-c\n",
    "print(\"In between 9 and 11 mA we have p-value:{}\".format(d))"
   ]
  },
  {
   "cell_type": "code",
   "execution_count": 142,
   "metadata": {},
   "outputs": [
    {
     "name": "stdout",
     "output_type": "stream",
     "text": [
      "2.0537489106318225\n",
      "Current for p-value 0.98 is 14.107497821263646\n"
     ]
    }
   ],
   "source": [
    "#C) Current for p=0.98 \n",
    "print(st.norm.ppf(0.98))\n",
    "e=(st.norm.ppf(0.98)*std) + mean\n",
    "print(\"Current for p-value 0.98 is {}\".format(e))"
   ]
  },
  {
   "cell_type": "markdown",
   "metadata": {},
   "source": [
    "Problem Statement 12:\n",
    "The shaft in a piston has its diameter normally distributed with a mean of 0.2508 inch\n",
    "and a standard deviation of 0.0005 inch. The specifications of the shaft are 0.2500 ∓\n",
    "0.0015 inch. What proportion of shafts are in sync with the specifications? If the\n",
    "process is centered so that the mean is equal to the target value of 0.2500, what\n",
    "proportion of shafts conform to the new specifications? What is your conclusion from\n",
    "this experiment?"
   ]
  },
  {
   "cell_type": "code",
   "execution_count": 151,
   "metadata": {},
   "outputs": [],
   "source": [
    "mean = 0.2508\n",
    "mean_new = 0.25\n",
    "std = 0.0005\n",
    "\n",
    "lv = 0.2500-0.0015\n",
    "hv = 0.2500+0.0015"
   ]
  },
  {
   "cell_type": "code",
   "execution_count": 158,
   "metadata": {},
   "outputs": [
    {
     "data": {
      "text/plain": [
       "0.2485"
      ]
     },
     "execution_count": 158,
     "metadata": {},
     "output_type": "execute_result"
    }
   ],
   "source": [
    "lv"
   ]
  },
  {
   "cell_type": "code",
   "execution_count": 159,
   "metadata": {},
   "outputs": [
    {
     "data": {
      "text/plain": [
       "0.2515"
      ]
     },
     "execution_count": 159,
     "metadata": {},
     "output_type": "execute_result"
    }
   ],
   "source": [
    "hv"
   ]
  },
  {
   "cell_type": "code",
   "execution_count": 154,
   "metadata": {},
   "outputs": [
    {
     "name": "stdout",
     "output_type": "stream",
     "text": [
      "Proportion of shaft that are sync within specification with mean=0.2508 and std=0.0005 is 0.91924122831152\n"
     ]
    }
   ],
   "source": [
    "a=st.norm.sf((lv-mean)/std)\n",
    "b=st.norm.sf((hv-mean)/std)\n",
    "print(\"Proportion of shaft that are sync within specification with mean={} and std={} is {}\".format(mean,std, a-b))"
   ]
  },
  {
   "cell_type": "code",
   "execution_count": 157,
   "metadata": {},
   "outputs": [
    {
     "name": "stdout",
     "output_type": "stream",
     "text": [
      "Proportion of shaft that are sync within specification with mean=0.25 and std=0.0005 is 0.9973002039367398\n"
     ]
    }
   ],
   "source": [
    "c=st.norm.sf((lv-mean_new)/std)\n",
    "d=st.norm.sf((hv-mean_new)/std)\n",
    "print(\"Proportion of shaft that are sync within specification with mean={} and std={} is {}\".format(mean_new,std, c-d))"
   ]
  },
  {
   "cell_type": "markdown",
   "metadata": {},
   "source": [
    "sd = 0.0005 and deviation on specification is 0.0015 which is 3*sd when mean was changed to 0.25 thats matches epecfication mean, then it covered exactly 99.7% of data."
   ]
  },
  {
   "cell_type": "code",
   "execution_count": null,
   "metadata": {},
   "outputs": [],
   "source": []
  }
 ],
 "metadata": {
  "kernelspec": {
   "display_name": "Python 3",
   "language": "python",
   "name": "python3"
  },
  "language_info": {
   "codemirror_mode": {
    "name": "ipython",
    "version": 3
   },
   "file_extension": ".py",
   "mimetype": "text/x-python",
   "name": "python",
   "nbconvert_exporter": "python",
   "pygments_lexer": "ipython3",
   "version": "3.7.7"
  }
 },
 "nbformat": 4,
 "nbformat_minor": 4
}
